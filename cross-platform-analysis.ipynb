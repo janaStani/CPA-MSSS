{
 "cells": [
  {
   "cell_type": "markdown",
   "id": "d62eadc2",
   "metadata": {
    "papermill": {
     "duration": 0.005729,
     "end_time": "2024-07-13T15:10:13.889563",
     "exception": false,
     "start_time": "2024-07-13T15:10:13.883834",
     "status": "completed"
    },
    "tags": []
   },
   "source": [
    "# **Cross-platform Analysis of Most Streamed Spotify Songs 2023**\n",
    "This analysis looks at the most streamed spotify songs of 2023 and how they perform across different music streaming platforms. \n",
    "\n",
    "### 1. Importing Libraries"
   ]
  },
  {
   "cell_type": "code",
   "execution_count": 1,
   "id": "c81f9b49",
   "metadata": {
    "execution": {
     "iopub.execute_input": "2024-07-13T15:10:13.901365Z",
     "iopub.status.busy": "2024-07-13T15:10:13.900959Z",
     "iopub.status.idle": "2024-07-13T15:10:16.081971Z",
     "shell.execute_reply": "2024-07-13T15:10:16.080616Z"
    },
    "papermill": {
     "duration": 2.190089,
     "end_time": "2024-07-13T15:10:16.085174",
     "exception": false,
     "start_time": "2024-07-13T15:10:13.895085",
     "status": "completed"
    },
    "tags": []
   },
   "outputs": [
    {
     "name": "stdout",
     "output_type": "stream",
     "text": [
      "/kaggle/input/top-spotify-songs-2023/spotify-2023.csv\n"
     ]
    }
   ],
   "source": [
    "import pandas as pd\n",
    "import numpy as np\n",
    "import matplotlib.pyplot as plt\n",
    "import seaborn as sns\n",
    "import os\n",
    "for dirname, _, filenames in os.walk('/kaggle/input'):\n",
    "    for filename in filenames:\n",
    "        print(os.path.join(dirname, filename))"
   ]
  },
  {
   "cell_type": "markdown",
   "id": "04bca617",
   "metadata": {
    "papermill": {
     "duration": 0.004502,
     "end_time": "2024-07-13T15:10:16.094709",
     "exception": false,
     "start_time": "2024-07-13T15:10:16.090207",
     "status": "completed"
    },
    "tags": []
   },
   "source": [
    "### 2. Load the dataset"
   ]
  },
  {
   "cell_type": "code",
   "execution_count": 2,
   "id": "e781bd9b",
   "metadata": {
    "execution": {
     "iopub.execute_input": "2024-07-13T15:10:16.106866Z",
     "iopub.status.busy": "2024-07-13T15:10:16.105560Z",
     "iopub.status.idle": "2024-07-13T15:10:16.167243Z",
     "shell.execute_reply": "2024-07-13T15:10:16.166019Z"
    },
    "papermill": {
     "duration": 0.070433,
     "end_time": "2024-07-13T15:10:16.169917",
     "exception": false,
     "start_time": "2024-07-13T15:10:16.099484",
     "status": "completed"
    },
    "tags": []
   },
   "outputs": [
    {
     "data": {
      "text/html": [
       "<div>\n",
       "<style scoped>\n",
       "    .dataframe tbody tr th:only-of-type {\n",
       "        vertical-align: middle;\n",
       "    }\n",
       "\n",
       "    .dataframe tbody tr th {\n",
       "        vertical-align: top;\n",
       "    }\n",
       "\n",
       "    .dataframe thead th {\n",
       "        text-align: right;\n",
       "    }\n",
       "</style>\n",
       "<table border=\"1\" class=\"dataframe\">\n",
       "  <thead>\n",
       "    <tr style=\"text-align: right;\">\n",
       "      <th></th>\n",
       "      <th>track_name</th>\n",
       "      <th>artist(s)_name</th>\n",
       "      <th>artist_count</th>\n",
       "      <th>released_year</th>\n",
       "      <th>released_month</th>\n",
       "      <th>released_day</th>\n",
       "      <th>in_spotify_playlists</th>\n",
       "      <th>in_spotify_charts</th>\n",
       "      <th>streams</th>\n",
       "      <th>in_apple_playlists</th>\n",
       "      <th>...</th>\n",
       "      <th>bpm</th>\n",
       "      <th>key</th>\n",
       "      <th>mode</th>\n",
       "      <th>danceability_%</th>\n",
       "      <th>valence_%</th>\n",
       "      <th>energy_%</th>\n",
       "      <th>acousticness_%</th>\n",
       "      <th>instrumentalness_%</th>\n",
       "      <th>liveness_%</th>\n",
       "      <th>speechiness_%</th>\n",
       "    </tr>\n",
       "  </thead>\n",
       "  <tbody>\n",
       "    <tr>\n",
       "      <th>0</th>\n",
       "      <td>Seven (feat. Latto) (Explicit Ver.)</td>\n",
       "      <td>Latto, Jung Kook</td>\n",
       "      <td>2</td>\n",
       "      <td>2023</td>\n",
       "      <td>7</td>\n",
       "      <td>14</td>\n",
       "      <td>553</td>\n",
       "      <td>147</td>\n",
       "      <td>141381703</td>\n",
       "      <td>43</td>\n",
       "      <td>...</td>\n",
       "      <td>125</td>\n",
       "      <td>B</td>\n",
       "      <td>Major</td>\n",
       "      <td>80</td>\n",
       "      <td>89</td>\n",
       "      <td>83</td>\n",
       "      <td>31</td>\n",
       "      <td>0</td>\n",
       "      <td>8</td>\n",
       "      <td>4</td>\n",
       "    </tr>\n",
       "    <tr>\n",
       "      <th>1</th>\n",
       "      <td>LALA</td>\n",
       "      <td>Myke Towers</td>\n",
       "      <td>1</td>\n",
       "      <td>2023</td>\n",
       "      <td>3</td>\n",
       "      <td>23</td>\n",
       "      <td>1474</td>\n",
       "      <td>48</td>\n",
       "      <td>133716286</td>\n",
       "      <td>48</td>\n",
       "      <td>...</td>\n",
       "      <td>92</td>\n",
       "      <td>C#</td>\n",
       "      <td>Major</td>\n",
       "      <td>71</td>\n",
       "      <td>61</td>\n",
       "      <td>74</td>\n",
       "      <td>7</td>\n",
       "      <td>0</td>\n",
       "      <td>10</td>\n",
       "      <td>4</td>\n",
       "    </tr>\n",
       "    <tr>\n",
       "      <th>2</th>\n",
       "      <td>vampire</td>\n",
       "      <td>Olivia Rodrigo</td>\n",
       "      <td>1</td>\n",
       "      <td>2023</td>\n",
       "      <td>6</td>\n",
       "      <td>30</td>\n",
       "      <td>1397</td>\n",
       "      <td>113</td>\n",
       "      <td>140003974</td>\n",
       "      <td>94</td>\n",
       "      <td>...</td>\n",
       "      <td>138</td>\n",
       "      <td>F</td>\n",
       "      <td>Major</td>\n",
       "      <td>51</td>\n",
       "      <td>32</td>\n",
       "      <td>53</td>\n",
       "      <td>17</td>\n",
       "      <td>0</td>\n",
       "      <td>31</td>\n",
       "      <td>6</td>\n",
       "    </tr>\n",
       "    <tr>\n",
       "      <th>3</th>\n",
       "      <td>Cruel Summer</td>\n",
       "      <td>Taylor Swift</td>\n",
       "      <td>1</td>\n",
       "      <td>2019</td>\n",
       "      <td>8</td>\n",
       "      <td>23</td>\n",
       "      <td>7858</td>\n",
       "      <td>100</td>\n",
       "      <td>800840817</td>\n",
       "      <td>116</td>\n",
       "      <td>...</td>\n",
       "      <td>170</td>\n",
       "      <td>A</td>\n",
       "      <td>Major</td>\n",
       "      <td>55</td>\n",
       "      <td>58</td>\n",
       "      <td>72</td>\n",
       "      <td>11</td>\n",
       "      <td>0</td>\n",
       "      <td>11</td>\n",
       "      <td>15</td>\n",
       "    </tr>\n",
       "    <tr>\n",
       "      <th>4</th>\n",
       "      <td>WHERE SHE GOES</td>\n",
       "      <td>Bad Bunny</td>\n",
       "      <td>1</td>\n",
       "      <td>2023</td>\n",
       "      <td>5</td>\n",
       "      <td>18</td>\n",
       "      <td>3133</td>\n",
       "      <td>50</td>\n",
       "      <td>303236322</td>\n",
       "      <td>84</td>\n",
       "      <td>...</td>\n",
       "      <td>144</td>\n",
       "      <td>A</td>\n",
       "      <td>Minor</td>\n",
       "      <td>65</td>\n",
       "      <td>23</td>\n",
       "      <td>80</td>\n",
       "      <td>14</td>\n",
       "      <td>63</td>\n",
       "      <td>11</td>\n",
       "      <td>6</td>\n",
       "    </tr>\n",
       "  </tbody>\n",
       "</table>\n",
       "<p>5 rows × 24 columns</p>\n",
       "</div>"
      ],
      "text/plain": [
       "                            track_name    artist(s)_name  artist_count  \\\n",
       "0  Seven (feat. Latto) (Explicit Ver.)  Latto, Jung Kook             2   \n",
       "1                                 LALA       Myke Towers             1   \n",
       "2                              vampire    Olivia Rodrigo             1   \n",
       "3                         Cruel Summer      Taylor Swift             1   \n",
       "4                       WHERE SHE GOES         Bad Bunny             1   \n",
       "\n",
       "   released_year  released_month  released_day  in_spotify_playlists  \\\n",
       "0           2023               7            14                   553   \n",
       "1           2023               3            23                  1474   \n",
       "2           2023               6            30                  1397   \n",
       "3           2019               8            23                  7858   \n",
       "4           2023               5            18                  3133   \n",
       "\n",
       "   in_spotify_charts    streams  in_apple_playlists  ...  bpm key   mode  \\\n",
       "0                147  141381703                  43  ...  125   B  Major   \n",
       "1                 48  133716286                  48  ...   92  C#  Major   \n",
       "2                113  140003974                  94  ...  138   F  Major   \n",
       "3                100  800840817                 116  ...  170   A  Major   \n",
       "4                 50  303236322                  84  ...  144   A  Minor   \n",
       "\n",
       "  danceability_%  valence_% energy_% acousticness_%  instrumentalness_%  \\\n",
       "0             80         89       83             31                   0   \n",
       "1             71         61       74              7                   0   \n",
       "2             51         32       53             17                   0   \n",
       "3             55         58       72             11                   0   \n",
       "4             65         23       80             14                  63   \n",
       "\n",
       "   liveness_%  speechiness_%  \n",
       "0           8              4  \n",
       "1          10              4  \n",
       "2          31              6  \n",
       "3          11             15  \n",
       "4          11              6  \n",
       "\n",
       "[5 rows x 24 columns]"
      ]
     },
     "execution_count": 2,
     "metadata": {},
     "output_type": "execute_result"
    }
   ],
   "source": [
    "df=pd.read_csv(\"/kaggle/input/top-spotify-songs-2023/spotify-2023.csv\",encoding='latin-1')\n",
    "df.head()"
   ]
  },
  {
   "cell_type": "code",
   "execution_count": 3,
   "id": "83045845",
   "metadata": {
    "execution": {
     "iopub.execute_input": "2024-07-13T15:10:16.182076Z",
     "iopub.status.busy": "2024-07-13T15:10:16.181712Z",
     "iopub.status.idle": "2024-07-13T15:10:16.187485Z",
     "shell.execute_reply": "2024-07-13T15:10:16.186215Z"
    },
    "papermill": {
     "duration": 0.014774,
     "end_time": "2024-07-13T15:10:16.190016",
     "exception": false,
     "start_time": "2024-07-13T15:10:16.175242",
     "status": "completed"
    },
    "tags": []
   },
   "outputs": [
    {
     "name": "stdout",
     "output_type": "stream",
     "text": [
      "The dataset contains 953 rows and 24 columns.\n"
     ]
    }
   ],
   "source": [
    "print(f\"The dataset contains {df.shape[0]} rows and {df.shape[1]} columns.\")"
   ]
  },
  {
   "cell_type": "code",
   "execution_count": 4,
   "id": "b3125dbe",
   "metadata": {
    "execution": {
     "iopub.execute_input": "2024-07-13T15:10:16.202568Z",
     "iopub.status.busy": "2024-07-13T15:10:16.202163Z",
     "iopub.status.idle": "2024-07-13T15:10:16.224143Z",
     "shell.execute_reply": "2024-07-13T15:10:16.222930Z"
    },
    "papermill": {
     "duration": 0.031359,
     "end_time": "2024-07-13T15:10:16.226841",
     "exception": false,
     "start_time": "2024-07-13T15:10:16.195482",
     "status": "completed"
    },
    "tags": []
   },
   "outputs": [
    {
     "name": "stdout",
     "output_type": "stream",
     "text": [
      "<class 'pandas.core.frame.DataFrame'>\n",
      "RangeIndex: 953 entries, 0 to 952\n",
      "Data columns (total 24 columns):\n",
      " #   Column                Non-Null Count  Dtype \n",
      "---  ------                --------------  ----- \n",
      " 0   track_name            953 non-null    object\n",
      " 1   artist(s)_name        953 non-null    object\n",
      " 2   artist_count          953 non-null    int64 \n",
      " 3   released_year         953 non-null    int64 \n",
      " 4   released_month        953 non-null    int64 \n",
      " 5   released_day          953 non-null    int64 \n",
      " 6   in_spotify_playlists  953 non-null    int64 \n",
      " 7   in_spotify_charts     953 non-null    int64 \n",
      " 8   streams               953 non-null    object\n",
      " 9   in_apple_playlists    953 non-null    int64 \n",
      " 10  in_apple_charts       953 non-null    int64 \n",
      " 11  in_deezer_playlists   953 non-null    object\n",
      " 12  in_deezer_charts      953 non-null    int64 \n",
      " 13  in_shazam_charts      903 non-null    object\n",
      " 14  bpm                   953 non-null    int64 \n",
      " 15  key                   858 non-null    object\n",
      " 16  mode                  953 non-null    object\n",
      " 17  danceability_%        953 non-null    int64 \n",
      " 18  valence_%             953 non-null    int64 \n",
      " 19  energy_%              953 non-null    int64 \n",
      " 20  acousticness_%        953 non-null    int64 \n",
      " 21  instrumentalness_%    953 non-null    int64 \n",
      " 22  liveness_%            953 non-null    int64 \n",
      " 23  speechiness_%         953 non-null    int64 \n",
      "dtypes: int64(17), object(7)\n",
      "memory usage: 178.8+ KB\n"
     ]
    }
   ],
   "source": [
    "# Print the DataFrame info\n",
    "df.info()"
   ]
  },
  {
   "cell_type": "markdown",
   "id": "8d83d7e0",
   "metadata": {
    "papermill": {
     "duration": 0.005241,
     "end_time": "2024-07-13T15:10:16.237684",
     "exception": false,
     "start_time": "2024-07-13T15:10:16.232443",
     "status": "completed"
    },
    "tags": []
   },
   "source": [
    "### 3. Data Cleaning"
   ]
  },
  {
   "cell_type": "code",
   "execution_count": 5,
   "id": "90c5e7f3",
   "metadata": {
    "execution": {
     "iopub.execute_input": "2024-07-13T15:10:16.250279Z",
     "iopub.status.busy": "2024-07-13T15:10:16.249851Z",
     "iopub.status.idle": "2024-07-13T15:10:16.259378Z",
     "shell.execute_reply": "2024-07-13T15:10:16.258385Z"
    },
    "papermill": {
     "duration": 0.018564,
     "end_time": "2024-07-13T15:10:16.261695",
     "exception": false,
     "start_time": "2024-07-13T15:10:16.243131",
     "status": "completed"
    },
    "tags": []
   },
   "outputs": [
    {
     "data": {
      "text/plain": [
       "track_name               0\n",
       "artist(s)_name           0\n",
       "artist_count             0\n",
       "released_year            0\n",
       "released_month           0\n",
       "released_day             0\n",
       "in_spotify_playlists     0\n",
       "in_spotify_charts        0\n",
       "streams                  0\n",
       "in_apple_playlists       0\n",
       "in_apple_charts          0\n",
       "in_deezer_playlists      0\n",
       "in_deezer_charts         0\n",
       "in_shazam_charts        50\n",
       "bpm                      0\n",
       "key                     95\n",
       "mode                     0\n",
       "danceability_%           0\n",
       "valence_%                0\n",
       "energy_%                 0\n",
       "acousticness_%           0\n",
       "instrumentalness_%       0\n",
       "liveness_%               0\n",
       "speechiness_%            0\n",
       "dtype: int64"
      ]
     },
     "execution_count": 5,
     "metadata": {},
     "output_type": "execute_result"
    }
   ],
   "source": [
    "#check missing values\n",
    "df.isnull().sum()"
   ]
  },
  {
   "cell_type": "markdown",
   "id": "14fc2a8b",
   "metadata": {
    "papermill": {
     "duration": 0.00546,
     "end_time": "2024-07-13T15:10:16.273010",
     "exception": false,
     "start_time": "2024-07-13T15:10:16.267550",
     "status": "completed"
    },
    "tags": []
   },
   "source": [
    "**Missing Values in coulmns:**\n",
    "* in_shazam_charts = 50 \n",
    "* key = 95"
   ]
  },
  {
   "cell_type": "code",
   "execution_count": 6,
   "id": "dd179776",
   "metadata": {
    "execution": {
     "iopub.execute_input": "2024-07-13T15:10:16.287060Z",
     "iopub.status.busy": "2024-07-13T15:10:16.286686Z",
     "iopub.status.idle": "2024-07-13T15:10:16.299126Z",
     "shell.execute_reply": "2024-07-13T15:10:16.297971Z"
    },
    "papermill": {
     "duration": 0.022543,
     "end_time": "2024-07-13T15:10:16.301557",
     "exception": false,
     "start_time": "2024-07-13T15:10:16.279014",
     "status": "completed"
    },
    "tags": []
   },
   "outputs": [
    {
     "data": {
      "text/plain": [
       "track_name              0\n",
       "artist(s)_name          0\n",
       "artist_count            0\n",
       "released_year           0\n",
       "released_month          0\n",
       "released_day            0\n",
       "in_spotify_playlists    0\n",
       "in_spotify_charts       0\n",
       "streams                 0\n",
       "in_apple_playlists      0\n",
       "in_apple_charts         0\n",
       "in_deezer_playlists     0\n",
       "in_deezer_charts        0\n",
       "in_shazam_charts        0\n",
       "bpm                     0\n",
       "key                     0\n",
       "mode                    0\n",
       "danceability_%          0\n",
       "valence_%               0\n",
       "energy_%                0\n",
       "acousticness_%          0\n",
       "instrumentalness_%      0\n",
       "liveness_%              0\n",
       "speechiness_%           0\n",
       "dtype: int64"
      ]
     },
     "execution_count": 6,
     "metadata": {},
     "output_type": "execute_result"
    }
   ],
   "source": [
    "# Missing values in column 'key' will be replaced as 'missing_key' because the data must be an object\n",
    "df['key'] = df['key'].fillna(\"missing_key\")\n",
    "\n",
    "# Missing values in column 'in shazam charts' will be replaced with 0 because the data must be an integer\n",
    "df['in_shazam_charts'] = df['in_shazam_charts'].fillna(0)\n",
    "\n",
    "df.isnull().sum()"
   ]
  },
  {
   "cell_type": "markdown",
   "id": "aa652fcc",
   "metadata": {
    "papermill": {
     "duration": 0.005762,
     "end_time": "2024-07-13T15:10:16.313491",
     "exception": false,
     "start_time": "2024-07-13T15:10:16.307729",
     "status": "completed"
    },
    "tags": []
   },
   "source": [
    "Now we dont have missing values. \n",
    "\n",
    "**Remove duplicate songs**\n"
   ]
  },
  {
   "cell_type": "code",
   "execution_count": 7,
   "id": "11133438",
   "metadata": {
    "execution": {
     "iopub.execute_input": "2024-07-13T15:10:16.327144Z",
     "iopub.status.busy": "2024-07-13T15:10:16.326754Z",
     "iopub.status.idle": "2024-07-13T15:10:16.356886Z",
     "shell.execute_reply": "2024-07-13T15:10:16.355797Z"
    },
    "papermill": {
     "duration": 0.039963,
     "end_time": "2024-07-13T15:10:16.359449",
     "exception": false,
     "start_time": "2024-07-13T15:10:16.319486",
     "status": "completed"
    },
    "tags": []
   },
   "outputs": [
    {
     "data": {
      "text/html": [
       "<div>\n",
       "<style scoped>\n",
       "    .dataframe tbody tr th:only-of-type {\n",
       "        vertical-align: middle;\n",
       "    }\n",
       "\n",
       "    .dataframe tbody tr th {\n",
       "        vertical-align: top;\n",
       "    }\n",
       "\n",
       "    .dataframe thead th {\n",
       "        text-align: right;\n",
       "    }\n",
       "</style>\n",
       "<table border=\"1\" class=\"dataframe\">\n",
       "  <thead>\n",
       "    <tr style=\"text-align: right;\">\n",
       "      <th></th>\n",
       "      <th>track_name</th>\n",
       "      <th>artist(s)_name</th>\n",
       "      <th>artist_count</th>\n",
       "      <th>released_year</th>\n",
       "      <th>released_month</th>\n",
       "      <th>released_day</th>\n",
       "      <th>in_spotify_playlists</th>\n",
       "      <th>in_spotify_charts</th>\n",
       "      <th>streams</th>\n",
       "      <th>in_apple_playlists</th>\n",
       "      <th>...</th>\n",
       "      <th>bpm</th>\n",
       "      <th>key</th>\n",
       "      <th>mode</th>\n",
       "      <th>danceability_%</th>\n",
       "      <th>valence_%</th>\n",
       "      <th>energy_%</th>\n",
       "      <th>acousticness_%</th>\n",
       "      <th>instrumentalness_%</th>\n",
       "      <th>liveness_%</th>\n",
       "      <th>speechiness_%</th>\n",
       "    </tr>\n",
       "  </thead>\n",
       "  <tbody>\n",
       "    <tr>\n",
       "      <th>178</th>\n",
       "      <td>SNAP</td>\n",
       "      <td>Rosa Linn</td>\n",
       "      <td>1</td>\n",
       "      <td>2022</td>\n",
       "      <td>3</td>\n",
       "      <td>19</td>\n",
       "      <td>3202</td>\n",
       "      <td>18</td>\n",
       "      <td>726307468</td>\n",
       "      <td>148</td>\n",
       "      <td>...</td>\n",
       "      <td>170</td>\n",
       "      <td>missing_key</td>\n",
       "      <td>Major</td>\n",
       "      <td>56</td>\n",
       "      <td>53</td>\n",
       "      <td>64</td>\n",
       "      <td>11</td>\n",
       "      <td>0</td>\n",
       "      <td>45</td>\n",
       "      <td>6</td>\n",
       "    </tr>\n",
       "    <tr>\n",
       "      <th>345</th>\n",
       "      <td>SPIT IN MY FACE!</td>\n",
       "      <td>ThxSoMch</td>\n",
       "      <td>1</td>\n",
       "      <td>2022</td>\n",
       "      <td>10</td>\n",
       "      <td>31</td>\n",
       "      <td>629</td>\n",
       "      <td>14</td>\n",
       "      <td>303216294</td>\n",
       "      <td>32</td>\n",
       "      <td>...</td>\n",
       "      <td>94</td>\n",
       "      <td>G#</td>\n",
       "      <td>Major</td>\n",
       "      <td>73</td>\n",
       "      <td>65</td>\n",
       "      <td>79</td>\n",
       "      <td>5</td>\n",
       "      <td>2</td>\n",
       "      <td>11</td>\n",
       "      <td>6</td>\n",
       "    </tr>\n",
       "    <tr>\n",
       "      <th>372</th>\n",
       "      <td>About Damn Time</td>\n",
       "      <td>Lizzo</td>\n",
       "      <td>1</td>\n",
       "      <td>2022</td>\n",
       "      <td>7</td>\n",
       "      <td>15</td>\n",
       "      <td>2332</td>\n",
       "      <td>2</td>\n",
       "      <td>723894473</td>\n",
       "      <td>0</td>\n",
       "      <td>...</td>\n",
       "      <td>109</td>\n",
       "      <td>A#</td>\n",
       "      <td>Minor</td>\n",
       "      <td>84</td>\n",
       "      <td>72</td>\n",
       "      <td>74</td>\n",
       "      <td>10</td>\n",
       "      <td>0</td>\n",
       "      <td>34</td>\n",
       "      <td>7</td>\n",
       "    </tr>\n",
       "    <tr>\n",
       "      <th>482</th>\n",
       "      <td>SPIT IN MY FACE!</td>\n",
       "      <td>ThxSoMch</td>\n",
       "      <td>1</td>\n",
       "      <td>2022</td>\n",
       "      <td>10</td>\n",
       "      <td>31</td>\n",
       "      <td>573</td>\n",
       "      <td>0</td>\n",
       "      <td>301869854</td>\n",
       "      <td>1</td>\n",
       "      <td>...</td>\n",
       "      <td>166</td>\n",
       "      <td>C#</td>\n",
       "      <td>Major</td>\n",
       "      <td>70</td>\n",
       "      <td>57</td>\n",
       "      <td>57</td>\n",
       "      <td>9</td>\n",
       "      <td>20</td>\n",
       "      <td>11</td>\n",
       "      <td>7</td>\n",
       "    </tr>\n",
       "    <tr>\n",
       "      <th>512</th>\n",
       "      <td>Take My Breath</td>\n",
       "      <td>The Weeknd</td>\n",
       "      <td>1</td>\n",
       "      <td>2021</td>\n",
       "      <td>8</td>\n",
       "      <td>6</td>\n",
       "      <td>2597</td>\n",
       "      <td>0</td>\n",
       "      <td>130655803</td>\n",
       "      <td>17</td>\n",
       "      <td>...</td>\n",
       "      <td>121</td>\n",
       "      <td>A#</td>\n",
       "      <td>Minor</td>\n",
       "      <td>70</td>\n",
       "      <td>35</td>\n",
       "      <td>77</td>\n",
       "      <td>1</td>\n",
       "      <td>0</td>\n",
       "      <td>26</td>\n",
       "      <td>4</td>\n",
       "    </tr>\n",
       "    <tr>\n",
       "      <th>616</th>\n",
       "      <td>Take My Breath</td>\n",
       "      <td>The Weeknd</td>\n",
       "      <td>1</td>\n",
       "      <td>2021</td>\n",
       "      <td>8</td>\n",
       "      <td>6</td>\n",
       "      <td>6392</td>\n",
       "      <td>0</td>\n",
       "      <td>432702334</td>\n",
       "      <td>174</td>\n",
       "      <td>...</td>\n",
       "      <td>121</td>\n",
       "      <td>G#</td>\n",
       "      <td>Major</td>\n",
       "      <td>75</td>\n",
       "      <td>53</td>\n",
       "      <td>74</td>\n",
       "      <td>2</td>\n",
       "      <td>0</td>\n",
       "      <td>11</td>\n",
       "      <td>5</td>\n",
       "    </tr>\n",
       "    <tr>\n",
       "      <th>764</th>\n",
       "      <td>About Damn Time</td>\n",
       "      <td>Lizzo</td>\n",
       "      <td>1</td>\n",
       "      <td>2022</td>\n",
       "      <td>4</td>\n",
       "      <td>14</td>\n",
       "      <td>9021</td>\n",
       "      <td>0</td>\n",
       "      <td>723894473</td>\n",
       "      <td>242</td>\n",
       "      <td>...</td>\n",
       "      <td>109</td>\n",
       "      <td>A#</td>\n",
       "      <td>Minor</td>\n",
       "      <td>84</td>\n",
       "      <td>72</td>\n",
       "      <td>74</td>\n",
       "      <td>10</td>\n",
       "      <td>0</td>\n",
       "      <td>34</td>\n",
       "      <td>7</td>\n",
       "    </tr>\n",
       "    <tr>\n",
       "      <th>873</th>\n",
       "      <td>SNAP</td>\n",
       "      <td>Rosa Linn</td>\n",
       "      <td>1</td>\n",
       "      <td>2022</td>\n",
       "      <td>3</td>\n",
       "      <td>19</td>\n",
       "      <td>1818</td>\n",
       "      <td>0</td>\n",
       "      <td>711366595</td>\n",
       "      <td>3</td>\n",
       "      <td>...</td>\n",
       "      <td>170</td>\n",
       "      <td>missing_key</td>\n",
       "      <td>Major</td>\n",
       "      <td>56</td>\n",
       "      <td>52</td>\n",
       "      <td>64</td>\n",
       "      <td>11</td>\n",
       "      <td>0</td>\n",
       "      <td>45</td>\n",
       "      <td>7</td>\n",
       "    </tr>\n",
       "  </tbody>\n",
       "</table>\n",
       "<p>8 rows × 24 columns</p>\n",
       "</div>"
      ],
      "text/plain": [
       "           track_name artist(s)_name  artist_count  released_year  \\\n",
       "178              SNAP      Rosa Linn             1           2022   \n",
       "345  SPIT IN MY FACE!       ThxSoMch             1           2022   \n",
       "372   About Damn Time          Lizzo             1           2022   \n",
       "482  SPIT IN MY FACE!       ThxSoMch             1           2022   \n",
       "512    Take My Breath     The Weeknd             1           2021   \n",
       "616    Take My Breath     The Weeknd             1           2021   \n",
       "764   About Damn Time          Lizzo             1           2022   \n",
       "873              SNAP      Rosa Linn             1           2022   \n",
       "\n",
       "     released_month  released_day  in_spotify_playlists  in_spotify_charts  \\\n",
       "178               3            19                  3202                 18   \n",
       "345              10            31                   629                 14   \n",
       "372               7            15                  2332                  2   \n",
       "482              10            31                   573                  0   \n",
       "512               8             6                  2597                  0   \n",
       "616               8             6                  6392                  0   \n",
       "764               4            14                  9021                  0   \n",
       "873               3            19                  1818                  0   \n",
       "\n",
       "       streams  in_apple_playlists  ...  bpm          key   mode  \\\n",
       "178  726307468                 148  ...  170  missing_key  Major   \n",
       "345  303216294                  32  ...   94           G#  Major   \n",
       "372  723894473                   0  ...  109           A#  Minor   \n",
       "482  301869854                   1  ...  166           C#  Major   \n",
       "512  130655803                  17  ...  121           A#  Minor   \n",
       "616  432702334                 174  ...  121           G#  Major   \n",
       "764  723894473                 242  ...  109           A#  Minor   \n",
       "873  711366595                   3  ...  170  missing_key  Major   \n",
       "\n",
       "    danceability_%  valence_% energy_% acousticness_%  instrumentalness_%  \\\n",
       "178             56         53       64             11                   0   \n",
       "345             73         65       79              5                   2   \n",
       "372             84         72       74             10                   0   \n",
       "482             70         57       57              9                  20   \n",
       "512             70         35       77              1                   0   \n",
       "616             75         53       74              2                   0   \n",
       "764             84         72       74             10                   0   \n",
       "873             56         52       64             11                   0   \n",
       "\n",
       "     liveness_%  speechiness_%  \n",
       "178          45              6  \n",
       "345          11              6  \n",
       "372          34              7  \n",
       "482          11              7  \n",
       "512          26              4  \n",
       "616          11              5  \n",
       "764          34              7  \n",
       "873          45              7  \n",
       "\n",
       "[8 rows x 24 columns]"
      ]
     },
     "execution_count": 7,
     "metadata": {},
     "output_type": "execute_result"
    }
   ],
   "source": [
    "df.duplicated(subset=['track_name','artist(s)_name']).sum()\n",
    "\n",
    "df[df.duplicated(subset=['track_name', 'artist(s)_name'], keep=False)]"
   ]
  },
  {
   "cell_type": "code",
   "execution_count": 8,
   "id": "e676cc80",
   "metadata": {
    "execution": {
     "iopub.execute_input": "2024-07-13T15:10:16.374661Z",
     "iopub.status.busy": "2024-07-13T15:10:16.374289Z",
     "iopub.status.idle": "2024-07-13T15:10:16.382794Z",
     "shell.execute_reply": "2024-07-13T15:10:16.381640Z"
    },
    "papermill": {
     "duration": 0.018836,
     "end_time": "2024-07-13T15:10:16.385162",
     "exception": false,
     "start_time": "2024-07-13T15:10:16.366326",
     "status": "completed"
    },
    "tags": []
   },
   "outputs": [
    {
     "name": "stdout",
     "output_type": "stream",
     "text": [
      "Number of rows after removing duplicates: 949\n"
     ]
    }
   ],
   "source": [
    "# Remove duplicates based on 'track_name' and 'artist(s)_name'\n",
    "df_cleaned = df.drop_duplicates(subset=['track_name', 'artist(s)_name'], keep='first')\n",
    "\n",
    "# Print the number of rows after removing duplicates\n",
    "print(f\"Number of rows after removing duplicates: {df_cleaned.shape[0]}\")"
   ]
  },
  {
   "cell_type": "code",
   "execution_count": 9,
   "id": "1ff4de65",
   "metadata": {
    "execution": {
     "iopub.execute_input": "2024-07-13T15:10:16.400306Z",
     "iopub.status.busy": "2024-07-13T15:10:16.399922Z",
     "iopub.status.idle": "2024-07-13T15:10:16.419802Z",
     "shell.execute_reply": "2024-07-13T15:10:16.418313Z"
    },
    "papermill": {
     "duration": 0.030265,
     "end_time": "2024-07-13T15:10:16.422238",
     "exception": false,
     "start_time": "2024-07-13T15:10:16.391973",
     "status": "completed"
    },
    "tags": []
   },
   "outputs": [
    {
     "name": "stdout",
     "output_type": "stream",
     "text": [
      "<class 'pandas.core.frame.DataFrame'>\n",
      "RangeIndex: 953 entries, 0 to 952\n",
      "Data columns (total 24 columns):\n",
      " #   Column                Non-Null Count  Dtype  \n",
      "---  ------                --------------  -----  \n",
      " 0   track_name            953 non-null    object \n",
      " 1   artist(s)_name        953 non-null    object \n",
      " 2   artist_count          953 non-null    int64  \n",
      " 3   released_year         953 non-null    int64  \n",
      " 4   released_month        953 non-null    int64  \n",
      " 5   released_day          953 non-null    int64  \n",
      " 6   in_spotify_playlists  953 non-null    int64  \n",
      " 7   in_spotify_charts     953 non-null    int64  \n",
      " 8   streams               952 non-null    float64\n",
      " 9   in_apple_playlists    953 non-null    int64  \n",
      " 10  in_apple_charts       953 non-null    int64  \n",
      " 11  in_deezer_playlists   874 non-null    float64\n",
      " 12  in_deezer_charts      953 non-null    int64  \n",
      " 13  in_shazam_charts      946 non-null    float64\n",
      " 14  bpm                   953 non-null    int64  \n",
      " 15  key                   953 non-null    object \n",
      " 16  mode                  953 non-null    object \n",
      " 17  danceability_%        953 non-null    int64  \n",
      " 18  valence_%             953 non-null    int64  \n",
      " 19  energy_%              953 non-null    int64  \n",
      " 20  acousticness_%        953 non-null    int64  \n",
      " 21  instrumentalness_%    953 non-null    int64  \n",
      " 22  liveness_%            953 non-null    int64  \n",
      " 23  speechiness_%         953 non-null    int64  \n",
      "dtypes: float64(3), int64(17), object(4)\n",
      "memory usage: 178.8+ KB\n"
     ]
    }
   ],
   "source": [
    "df['streams'] = pd.to_numeric(df['streams'], errors='coerce')\n",
    "df['in_deezer_playlists'] = pd.to_numeric(df['in_deezer_playlists'], errors='coerce')\n",
    "df['in_shazam_charts'] = pd.to_numeric(df['in_shazam_charts'], errors='coerce')\n",
    "df.info()"
   ]
  },
  {
   "cell_type": "code",
   "execution_count": 10,
   "id": "25ce9cc5",
   "metadata": {
    "execution": {
     "iopub.execute_input": "2024-07-13T15:10:16.438024Z",
     "iopub.status.busy": "2024-07-13T15:10:16.437646Z",
     "iopub.status.idle": "2024-07-13T15:10:16.835426Z",
     "shell.execute_reply": "2024-07-13T15:10:16.834239Z"
    },
    "papermill": {
     "duration": 0.408548,
     "end_time": "2024-07-13T15:10:16.838047",
     "exception": false,
     "start_time": "2024-07-13T15:10:16.429499",
     "status": "completed"
    },
    "tags": []
   },
   "outputs": [
    {
     "data": {
      "image/png": "[encoded data removed]",
      "text/plain": [
       "<Figure size 640x480 with 1 Axes>"
      ]
     },
     "metadata": {},
     "output_type": "display_data"
    }
   ],
   "source": [
    "# Artist count\n",
    "\n",
    "colors = sns.color_palette(\"flare\")\n",
    "sns.countplot(data=df, x='artist_count', palette=colors, width=0.5, saturation = 2).set(title='Number of artists per song')\n",
    "plt.show()"
   ]
  }
 ],
 "metadata": {
  "kaggle": {
   "accelerator": "none",
   "dataSources": [
    {
     "datasetId": 3668746,
     "sourceId": 6367938,
     "sourceType": "datasetVersion"
    }
   ],
   "dockerImageVersionId": 30746,
   "isGpuEnabled": false,
   "isInternetEnabled": false,
   "language": "python",
   "sourceType": "notebook"
  },
  "kernelspec": {
   "display_name": "Python 3",
   "language": "python",
   "name": "python3"
  },
  "language_info": {
   "codemirror_mode": {
    "name": "ipython",
    "version": 3
   },
   "file_extension": ".py",
   "mimetype": "text/x-python",
   "name": "python",
   "nbconvert_exporter": "python",
   "pygments_lexer": "ipython3",
   "version": "3.10.13"
  },
  "papermill": {
   "default_parameters": {},
   "duration": 6.460327,
   "end_time": "2024-07-13T15:10:17.367715",
   "environment_variables": {},
   "exception": null,
   "input_path": "__notebook__.ipynb",
   "output_path": "__notebook__.ipynb",
   "parameters": {},
   "start_time": "2024-07-13T15:10:10.907388",
   "version": "2.5.0"
  }
 },
 "nbformat": 4,
 "nbformat_minor": 5
}
