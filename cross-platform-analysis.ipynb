{
 "cells": [
  {
   "cell_type": "markdown",
   "id": "5f23318e",
   "metadata": {
    "papermill": {
     "duration": 0.006847,
     "end_time": "2024-07-15T21:31:38.145697",
     "exception": false,
     "start_time": "2024-07-15T21:31:38.138850",
     "status": "completed"
    },
    "tags": []
   },
   "source": [
    "# **Cross-platform Analysis of Most Streamed Spotify Songs 2023**\n",
    "This analysis looks at the most streamed spotify songs of 2023 and how they perform across different music streaming platforms. \n",
    "\n",
    "### 1. Importing Libraries"
   ]
  },
  {
   "cell_type": "code",
   "execution_count": 1,
   "id": "d8a11d96",
   "metadata": {
    "execution": {
     "iopub.execute_input": "2024-07-15T21:31:38.160093Z",
     "iopub.status.busy": "2024-07-15T21:31:38.159693Z",
     "iopub.status.idle": "2024-07-15T21:31:40.526937Z",
     "shell.execute_reply": "2024-07-15T21:31:40.525868Z"
    },
    "papermill": {
     "duration": 2.377568,
     "end_time": "2024-07-15T21:31:40.529525",
     "exception": false,
     "start_time": "2024-07-15T21:31:38.151957",
     "status": "completed"
    },
    "tags": []
   },
   "outputs": [
    {
     "name": "stdout",
     "output_type": "stream",
     "text": [
      "/kaggle/input/top-spotify-songs-2023/spotify-2023.csv\n"
     ]
    }
   ],
   "source": [
    "import pandas as pd\n",
    "import numpy as np\n",
    "import matplotlib.pyplot as plt\n",
    "import seaborn as sns\n",
    "import os\n",
    "for dirname, _, filenames in os.walk('/kaggle/input'):\n",
    "    for filename in filenames:\n",
    "        print(os.path.join(dirname, filename))"
   ]
  },
  {
   "cell_type": "markdown",
   "id": "0195f004",
   "metadata": {
    "papermill": {
     "duration": 0.006008,
     "end_time": "2024-07-15T21:31:40.541840",
     "exception": false,
     "start_time": "2024-07-15T21:31:40.535832",
     "status": "completed"
    },
    "tags": []
   },
   "source": [
    "### 2. Load the dataset"
   ]
  },
  {
   "cell_type": "code",
   "execution_count": 2,
   "id": "ecf6e099",
   "metadata": {
    "execution": {
     "iopub.execute_input": "2024-07-15T21:31:40.556531Z",
     "iopub.status.busy": "2024-07-15T21:31:40.555916Z",
     "iopub.status.idle": "2024-07-15T21:31:40.620709Z",
     "shell.execute_reply": "2024-07-15T21:31:40.619493Z"
    },
    "papermill": {
     "duration": 0.07514,
     "end_time": "2024-07-15T21:31:40.623349",
     "exception": false,
     "start_time": "2024-07-15T21:31:40.548209",
     "status": "completed"
    },
    "tags": []
   },
   "outputs": [
    {
     "data": {
      "text/html": [
       "<div>\n",
       "<style scoped>\n",
       "    .dataframe tbody tr th:only-of-type {\n",
       "        vertical-align: middle;\n",
       "    }\n",
       "\n",
       "    .dataframe tbody tr th {\n",
       "        vertical-align: top;\n",
       "    }\n",
       "\n",
       "    .dataframe thead th {\n",
       "        text-align: right;\n",
       "    }\n",
       "</style>\n",
       "<table border=\"1\" class=\"dataframe\">\n",
       "  <thead>\n",
       "    <tr style=\"text-align: right;\">\n",
       "      <th></th>\n",
       "      <th>track_name</th>\n",
       "      <th>artist(s)_name</th>\n",
       "      <th>artist_count</th>\n",
       "      <th>released_year</th>\n",
       "      <th>released_month</th>\n",
       "      <th>released_day</th>\n",
       "      <th>in_spotify_playlists</th>\n",
       "      <th>in_spotify_charts</th>\n",
       "      <th>streams</th>\n",
       "      <th>in_apple_playlists</th>\n",
       "      <th>...</th>\n",
       "      <th>bpm</th>\n",
       "      <th>key</th>\n",
       "      <th>mode</th>\n",
       "      <th>danceability_%</th>\n",
       "      <th>valence_%</th>\n",
       "      <th>energy_%</th>\n",
       "      <th>acousticness_%</th>\n",
       "      <th>instrumentalness_%</th>\n",
       "      <th>liveness_%</th>\n",
       "      <th>speechiness_%</th>\n",
       "    </tr>\n",
       "  </thead>\n",
       "  <tbody>\n",
       "    <tr>\n",
       "      <th>0</th>\n",
       "      <td>Seven (feat. Latto) (Explicit Ver.)</td>\n",
       "      <td>Latto, Jung Kook</td>\n",
       "      <td>2</td>\n",
       "      <td>2023</td>\n",
       "      <td>7</td>\n",
       "      <td>14</td>\n",
       "      <td>553</td>\n",
       "      <td>147</td>\n",
       "      <td>141381703</td>\n",
       "      <td>43</td>\n",
       "      <td>...</td>\n",
       "      <td>125</td>\n",
       "      <td>B</td>\n",
       "      <td>Major</td>\n",
       "      <td>80</td>\n",
       "      <td>89</td>\n",
       "      <td>83</td>\n",
       "      <td>31</td>\n",
       "      <td>0</td>\n",
       "      <td>8</td>\n",
       "      <td>4</td>\n",
       "    </tr>\n",
       "    <tr>\n",
       "      <th>1</th>\n",
       "      <td>LALA</td>\n",
       "      <td>Myke Towers</td>\n",
       "      <td>1</td>\n",
       "      <td>2023</td>\n",
       "      <td>3</td>\n",
       "      <td>23</td>\n",
       "      <td>1474</td>\n",
       "      <td>48</td>\n",
       "      <td>133716286</td>\n",
       "      <td>48</td>\n",
       "      <td>...</td>\n",
       "      <td>92</td>\n",
       "      <td>C#</td>\n",
       "      <td>Major</td>\n",
       "      <td>71</td>\n",
       "      <td>61</td>\n",
       "      <td>74</td>\n",
       "      <td>7</td>\n",
       "      <td>0</td>\n",
       "      <td>10</td>\n",
       "      <td>4</td>\n",
       "    </tr>\n",
       "    <tr>\n",
       "      <th>2</th>\n",
       "      <td>vampire</td>\n",
       "      <td>Olivia Rodrigo</td>\n",
       "      <td>1</td>\n",
       "      <td>2023</td>\n",
       "      <td>6</td>\n",
       "      <td>30</td>\n",
       "      <td>1397</td>\n",
       "      <td>113</td>\n",
       "      <td>140003974</td>\n",
       "      <td>94</td>\n",
       "      <td>...</td>\n",
       "      <td>138</td>\n",
       "      <td>F</td>\n",
       "      <td>Major</td>\n",
       "      <td>51</td>\n",
       "      <td>32</td>\n",
       "      <td>53</td>\n",
       "      <td>17</td>\n",
       "      <td>0</td>\n",
       "      <td>31</td>\n",
       "      <td>6</td>\n",
       "    </tr>\n",
       "    <tr>\n",
       "      <th>3</th>\n",
       "      <td>Cruel Summer</td>\n",
       "      <td>Taylor Swift</td>\n",
       "      <td>1</td>\n",
       "      <td>2019</td>\n",
       "      <td>8</td>\n",
       "      <td>23</td>\n",
       "      <td>7858</td>\n",
       "      <td>100</td>\n",
       "      <td>800840817</td>\n",
       "      <td>116</td>\n",
       "      <td>...</td>\n",
       "      <td>170</td>\n",
       "      <td>A</td>\n",
       "      <td>Major</td>\n",
       "      <td>55</td>\n",
       "      <td>58</td>\n",
       "      <td>72</td>\n",
       "      <td>11</td>\n",
       "      <td>0</td>\n",
       "      <td>11</td>\n",
       "      <td>15</td>\n",
       "    </tr>\n",
       "    <tr>\n",
       "      <th>4</th>\n",
       "      <td>WHERE SHE GOES</td>\n",
       "      <td>Bad Bunny</td>\n",
       "      <td>1</td>\n",
       "      <td>2023</td>\n",
       "      <td>5</td>\n",
       "      <td>18</td>\n",
       "      <td>3133</td>\n",
       "      <td>50</td>\n",
       "      <td>303236322</td>\n",
       "      <td>84</td>\n",
       "      <td>...</td>\n",
       "      <td>144</td>\n",
       "      <td>A</td>\n",
       "      <td>Minor</td>\n",
       "      <td>65</td>\n",
       "      <td>23</td>\n",
       "      <td>80</td>\n",
       "      <td>14</td>\n",
       "      <td>63</td>\n",
       "      <td>11</td>\n",
       "      <td>6</td>\n",
       "    </tr>\n",
       "  </tbody>\n",
       "</table>\n",
       "<p>5 rows × 24 columns</p>\n",
       "</div>"
      ],
      "text/plain": [
       "                            track_name    artist(s)_name  artist_count  \\\n",
       "0  Seven (feat. Latto) (Explicit Ver.)  Latto, Jung Kook             2   \n",
       "1                                 LALA       Myke Towers             1   \n",
       "2                              vampire    Olivia Rodrigo             1   \n",
       "3                         Cruel Summer      Taylor Swift             1   \n",
       "4                       WHERE SHE GOES         Bad Bunny             1   \n",
       "\n",
       "   released_year  released_month  released_day  in_spotify_playlists  \\\n",
       "0           2023               7            14                   553   \n",
       "1           2023               3            23                  1474   \n",
       "2           2023               6            30                  1397   \n",
       "3           2019               8            23                  7858   \n",
       "4           2023               5            18                  3133   \n",
       "\n",
       "   in_spotify_charts    streams  in_apple_playlists  ...  bpm key   mode  \\\n",
       "0                147  141381703                  43  ...  125   B  Major   \n",
       "1                 48  133716286                  48  ...   92  C#  Major   \n",
       "2                113  140003974                  94  ...  138   F  Major   \n",
       "3                100  800840817                 116  ...  170   A  Major   \n",
       "4                 50  303236322                  84  ...  144   A  Minor   \n",
       "\n",
       "  danceability_%  valence_% energy_% acousticness_%  instrumentalness_%  \\\n",
       "0             80         89       83             31                   0   \n",
       "1             71         61       74              7                   0   \n",
       "2             51         32       53             17                   0   \n",
       "3             55         58       72             11                   0   \n",
       "4             65         23       80             14                  63   \n",
       "\n",
       "   liveness_%  speechiness_%  \n",
       "0           8              4  \n",
       "1          10              4  \n",
       "2          31              6  \n",
       "3          11             15  \n",
       "4          11              6  \n",
       "\n",
       "[5 rows x 24 columns]"
      ]
     },
     "execution_count": 2,
     "metadata": {},
     "output_type": "execute_result"
    }
   ],
   "source": [
    "df=pd.read_csv(\"/kaggle/input/top-spotify-songs-2023/spotify-2023.csv\",encoding='latin-1')\n",
    "df.head()"
   ]
  },
  {
   "cell_type": "code",
   "execution_count": 3,
   "id": "81c12e74",
   "metadata": {
    "execution": {
     "iopub.execute_input": "2024-07-15T21:31:40.639656Z",
     "iopub.status.busy": "2024-07-15T21:31:40.638600Z",
     "iopub.status.idle": "2024-07-15T21:31:40.644747Z",
     "shell.execute_reply": "2024-07-15T21:31:40.643647Z"
    },
    "papermill": {
     "duration": 0.017214,
     "end_time": "2024-07-15T21:31:40.647337",
     "exception": false,
     "start_time": "2024-07-15T21:31:40.630123",
     "status": "completed"
    },
    "tags": []
   },
   "outputs": [
    {
     "name": "stdout",
     "output_type": "stream",
     "text": [
      "The dataset contains 953 rows and 24 columns.\n"
     ]
    }
   ],
   "source": [
    "print(f\"The dataset contains {df.shape[0]} rows and {df.shape[1]} columns.\")"
   ]
  },
  {
   "cell_type": "code",
   "execution_count": 4,
   "id": "16663e4c",
   "metadata": {
    "execution": {
     "iopub.execute_input": "2024-07-15T21:31:40.663544Z",
     "iopub.status.busy": "2024-07-15T21:31:40.662297Z",
     "iopub.status.idle": "2024-07-15T21:31:40.685245Z",
     "shell.execute_reply": "2024-07-15T21:31:40.683862Z"
    },
    "papermill": {
     "duration": 0.033878,
     "end_time": "2024-07-15T21:31:40.688039",
     "exception": false,
     "start_time": "2024-07-15T21:31:40.654161",
     "status": "completed"
    },
    "tags": []
   },
   "outputs": [
    {
     "name": "stdout",
     "output_type": "stream",
     "text": [
      "<class 'pandas.core.frame.DataFrame'>\n",
      "RangeIndex: 953 entries, 0 to 952\n",
      "Data columns (total 24 columns):\n",
      " #   Column                Non-Null Count  Dtype \n",
      "---  ------                --------------  ----- \n",
      " 0   track_name            953 non-null    object\n",
      " 1   artist(s)_name        953 non-null    object\n",
      " 2   artist_count          953 non-null    int64 \n",
      " 3   released_year         953 non-null    int64 \n",
      " 4   released_month        953 non-null    int64 \n",
      " 5   released_day          953 non-null    int64 \n",
      " 6   in_spotify_playlists  953 non-null    int64 \n",
      " 7   in_spotify_charts     953 non-null    int64 \n",
      " 8   streams               953 non-null    object\n",
      " 9   in_apple_playlists    953 non-null    int64 \n",
      " 10  in_apple_charts       953 non-null    int64 \n",
      " 11  in_deezer_playlists   953 non-null    object\n",
      " 12  in_deezer_charts      953 non-null    int64 \n",
      " 13  in_shazam_charts      903 non-null    object\n",
      " 14  bpm                   953 non-null    int64 \n",
      " 15  key                   858 non-null    object\n",
      " 16  mode                  953 non-null    object\n",
      " 17  danceability_%        953 non-null    int64 \n",
      " 18  valence_%             953 non-null    int64 \n",
      " 19  energy_%              953 non-null    int64 \n",
      " 20  acousticness_%        953 non-null    int64 \n",
      " 21  instrumentalness_%    953 non-null    int64 \n",
      " 22  liveness_%            953 non-null    int64 \n",
      " 23  speechiness_%         953 non-null    int64 \n",
      "dtypes: int64(17), object(7)\n",
      "memory usage: 178.8+ KB\n"
     ]
    }
   ],
   "source": [
    "# Print the DataFrame info\n",
    "df.info()"
   ]
  },
  {
   "cell_type": "markdown",
   "id": "c1454620",
   "metadata": {
    "papermill": {
     "duration": 0.006941,
     "end_time": "2024-07-15T21:31:40.702345",
     "exception": false,
     "start_time": "2024-07-15T21:31:40.695404",
     "status": "completed"
    },
    "tags": []
   },
   "source": [
    "### 3. Data Cleaning"
   ]
  },
  {
   "cell_type": "code",
   "execution_count": 5,
   "id": "11c12d3a",
   "metadata": {
    "execution": {
     "iopub.execute_input": "2024-07-15T21:31:40.719936Z",
     "iopub.status.busy": "2024-07-15T21:31:40.719034Z",
     "iopub.status.idle": "2024-07-15T21:31:40.730163Z",
     "shell.execute_reply": "2024-07-15T21:31:40.728879Z"
    },
    "papermill": {
     "duration": 0.02248,
     "end_time": "2024-07-15T21:31:40.732694",
     "exception": false,
     "start_time": "2024-07-15T21:31:40.710214",
     "status": "completed"
    },
    "tags": []
   },
   "outputs": [
    {
     "data": {
      "text/plain": [
       "track_name               0\n",
       "artist(s)_name           0\n",
       "artist_count             0\n",
       "released_year            0\n",
       "released_month           0\n",
       "released_day             0\n",
       "in_spotify_playlists     0\n",
       "in_spotify_charts        0\n",
       "streams                  0\n",
       "in_apple_playlists       0\n",
       "in_apple_charts          0\n",
       "in_deezer_playlists      0\n",
       "in_deezer_charts         0\n",
       "in_shazam_charts        50\n",
       "bpm                      0\n",
       "key                     95\n",
       "mode                     0\n",
       "danceability_%           0\n",
       "valence_%                0\n",
       "energy_%                 0\n",
       "acousticness_%           0\n",
       "instrumentalness_%       0\n",
       "liveness_%               0\n",
       "speechiness_%            0\n",
       "dtype: int64"
      ]
     },
     "execution_count": 5,
     "metadata": {},
     "output_type": "execute_result"
    }
   ],
   "source": [
    "#check missing values\n",
    "df.isnull().sum()"
   ]
  },
  {
   "cell_type": "markdown",
   "id": "e29d9d97",
   "metadata": {
    "papermill": {
     "duration": 0.006956,
     "end_time": "2024-07-15T21:31:40.746889",
     "exception": false,
     "start_time": "2024-07-15T21:31:40.739933",
     "status": "completed"
    },
    "tags": []
   },
   "source": [
    "**Missing Values in coulmns:**\n",
    "* in_shazam_charts = 50 \n",
    "* key = 95"
   ]
  },
  {
   "cell_type": "code",
   "execution_count": 6,
   "id": "fff26ca2",
   "metadata": {
    "execution": {
     "iopub.execute_input": "2024-07-15T21:31:40.764000Z",
     "iopub.status.busy": "2024-07-15T21:31:40.762941Z",
     "iopub.status.idle": "2024-07-15T21:31:40.776018Z",
     "shell.execute_reply": "2024-07-15T21:31:40.774934Z"
    },
    "papermill": {
     "duration": 0.024557,
     "end_time": "2024-07-15T21:31:40.778535",
     "exception": false,
     "start_time": "2024-07-15T21:31:40.753978",
     "status": "completed"
    },
    "tags": []
   },
   "outputs": [
    {
     "data": {
      "text/plain": [
       "track_name              0\n",
       "artist(s)_name          0\n",
       "artist_count            0\n",
       "released_year           0\n",
       "released_month          0\n",
       "released_day            0\n",
       "in_spotify_playlists    0\n",
       "in_spotify_charts       0\n",
       "streams                 0\n",
       "in_apple_playlists      0\n",
       "in_apple_charts         0\n",
       "in_deezer_playlists     0\n",
       "in_deezer_charts        0\n",
       "in_shazam_charts        0\n",
       "bpm                     0\n",
       "key                     0\n",
       "mode                    0\n",
       "danceability_%          0\n",
       "valence_%               0\n",
       "energy_%                0\n",
       "acousticness_%          0\n",
       "instrumentalness_%      0\n",
       "liveness_%              0\n",
       "speechiness_%           0\n",
       "dtype: int64"
      ]
     },
     "execution_count": 6,
     "metadata": {},
     "output_type": "execute_result"
    }
   ],
   "source": [
    "# Missing values in column 'key' will be replaced as 'missing_key' because the data must be an object\n",
    "df['key'] = df['key'].fillna(\"missing_key\")\n",
    "\n",
    "# Missing values in column 'in shazam charts' will be replaced with 0 because the data must be an integer\n",
    "df['in_shazam_charts'] = df['in_shazam_charts'].fillna(0)\n",
    "\n",
    "df.isnull().sum()"
   ]
  },
  {
   "cell_type": "markdown",
   "id": "85649d59",
   "metadata": {
    "papermill": {
     "duration": 0.007116,
     "end_time": "2024-07-15T21:31:40.793150",
     "exception": false,
     "start_time": "2024-07-15T21:31:40.786034",
     "status": "completed"
    },
    "tags": []
   },
   "source": [
    "Now we dont have missing values. \n",
    "\n",
    "**Remove duplicate songs**\n"
   ]
  },
  {
   "cell_type": "code",
   "execution_count": 7,
   "id": "f47b401f",
   "metadata": {
    "execution": {
     "iopub.execute_input": "2024-07-15T21:31:40.810302Z",
     "iopub.status.busy": "2024-07-15T21:31:40.809352Z",
     "iopub.status.idle": "2024-07-15T21:31:40.839559Z",
     "shell.execute_reply": "2024-07-15T21:31:40.838331Z"
    },
    "papermill": {
     "duration": 0.041419,
     "end_time": "2024-07-15T21:31:40.841929",
     "exception": false,
     "start_time": "2024-07-15T21:31:40.800510",
     "status": "completed"
    },
    "tags": []
   },
   "outputs": [
    {
     "data": {
      "text/html": [
       "<div>\n",
       "<style scoped>\n",
       "    .dataframe tbody tr th:only-of-type {\n",
       "        vertical-align: middle;\n",
       "    }\n",
       "\n",
       "    .dataframe tbody tr th {\n",
       "        vertical-align: top;\n",
       "    }\n",
       "\n",
       "    .dataframe thead th {\n",
       "        text-align: right;\n",
       "    }\n",
       "</style>\n",
       "<table border=\"1\" class=\"dataframe\">\n",
       "  <thead>\n",
       "    <tr style=\"text-align: right;\">\n",
       "      <th></th>\n",
       "      <th>track_name</th>\n",
       "      <th>artist(s)_name</th>\n",
       "      <th>artist_count</th>\n",
       "      <th>released_year</th>\n",
       "      <th>released_month</th>\n",
       "      <th>released_day</th>\n",
       "      <th>in_spotify_playlists</th>\n",
       "      <th>in_spotify_charts</th>\n",
       "      <th>streams</th>\n",
       "      <th>in_apple_playlists</th>\n",
       "      <th>...</th>\n",
       "      <th>bpm</th>\n",
       "      <th>key</th>\n",
       "      <th>mode</th>\n",
       "      <th>danceability_%</th>\n",
       "      <th>valence_%</th>\n",
       "      <th>energy_%</th>\n",
       "      <th>acousticness_%</th>\n",
       "      <th>instrumentalness_%</th>\n",
       "      <th>liveness_%</th>\n",
       "      <th>speechiness_%</th>\n",
       "    </tr>\n",
       "  </thead>\n",
       "  <tbody>\n",
       "    <tr>\n",
       "      <th>178</th>\n",
       "      <td>SNAP</td>\n",
       "      <td>Rosa Linn</td>\n",
       "      <td>1</td>\n",
       "      <td>2022</td>\n",
       "      <td>3</td>\n",
       "      <td>19</td>\n",
       "      <td>3202</td>\n",
       "      <td>18</td>\n",
       "      <td>726307468</td>\n",
       "      <td>148</td>\n",
       "      <td>...</td>\n",
       "      <td>170</td>\n",
       "      <td>missing_key</td>\n",
       "      <td>Major</td>\n",
       "      <td>56</td>\n",
       "      <td>53</td>\n",
       "      <td>64</td>\n",
       "      <td>11</td>\n",
       "      <td>0</td>\n",
       "      <td>45</td>\n",
       "      <td>6</td>\n",
       "    </tr>\n",
       "    <tr>\n",
       "      <th>345</th>\n",
       "      <td>SPIT IN MY FACE!</td>\n",
       "      <td>ThxSoMch</td>\n",
       "      <td>1</td>\n",
       "      <td>2022</td>\n",
       "      <td>10</td>\n",
       "      <td>31</td>\n",
       "      <td>629</td>\n",
       "      <td>14</td>\n",
       "      <td>303216294</td>\n",
       "      <td>32</td>\n",
       "      <td>...</td>\n",
       "      <td>94</td>\n",
       "      <td>G#</td>\n",
       "      <td>Major</td>\n",
       "      <td>73</td>\n",
       "      <td>65</td>\n",
       "      <td>79</td>\n",
       "      <td>5</td>\n",
       "      <td>2</td>\n",
       "      <td>11</td>\n",
       "      <td>6</td>\n",
       "    </tr>\n",
       "    <tr>\n",
       "      <th>372</th>\n",
       "      <td>About Damn Time</td>\n",
       "      <td>Lizzo</td>\n",
       "      <td>1</td>\n",
       "      <td>2022</td>\n",
       "      <td>7</td>\n",
       "      <td>15</td>\n",
       "      <td>2332</td>\n",
       "      <td>2</td>\n",
       "      <td>723894473</td>\n",
       "      <td>0</td>\n",
       "      <td>...</td>\n",
       "      <td>109</td>\n",
       "      <td>A#</td>\n",
       "      <td>Minor</td>\n",
       "      <td>84</td>\n",
       "      <td>72</td>\n",
       "      <td>74</td>\n",
       "      <td>10</td>\n",
       "      <td>0</td>\n",
       "      <td>34</td>\n",
       "      <td>7</td>\n",
       "    </tr>\n",
       "    <tr>\n",
       "      <th>482</th>\n",
       "      <td>SPIT IN MY FACE!</td>\n",
       "      <td>ThxSoMch</td>\n",
       "      <td>1</td>\n",
       "      <td>2022</td>\n",
       "      <td>10</td>\n",
       "      <td>31</td>\n",
       "      <td>573</td>\n",
       "      <td>0</td>\n",
       "      <td>301869854</td>\n",
       "      <td>1</td>\n",
       "      <td>...</td>\n",
       "      <td>166</td>\n",
       "      <td>C#</td>\n",
       "      <td>Major</td>\n",
       "      <td>70</td>\n",
       "      <td>57</td>\n",
       "      <td>57</td>\n",
       "      <td>9</td>\n",
       "      <td>20</td>\n",
       "      <td>11</td>\n",
       "      <td>7</td>\n",
       "    </tr>\n",
       "    <tr>\n",
       "      <th>512</th>\n",
       "      <td>Take My Breath</td>\n",
       "      <td>The Weeknd</td>\n",
       "      <td>1</td>\n",
       "      <td>2021</td>\n",
       "      <td>8</td>\n",
       "      <td>6</td>\n",
       "      <td>2597</td>\n",
       "      <td>0</td>\n",
       "      <td>130655803</td>\n",
       "      <td>17</td>\n",
       "      <td>...</td>\n",
       "      <td>121</td>\n",
       "      <td>A#</td>\n",
       "      <td>Minor</td>\n",
       "      <td>70</td>\n",
       "      <td>35</td>\n",
       "      <td>77</td>\n",
       "      <td>1</td>\n",
       "      <td>0</td>\n",
       "      <td>26</td>\n",
       "      <td>4</td>\n",
       "    </tr>\n",
       "    <tr>\n",
       "      <th>616</th>\n",
       "      <td>Take My Breath</td>\n",
       "      <td>The Weeknd</td>\n",
       "      <td>1</td>\n",
       "      <td>2021</td>\n",
       "      <td>8</td>\n",
       "      <td>6</td>\n",
       "      <td>6392</td>\n",
       "      <td>0</td>\n",
       "      <td>432702334</td>\n",
       "      <td>174</td>\n",
       "      <td>...</td>\n",
       "      <td>121</td>\n",
       "      <td>G#</td>\n",
       "      <td>Major</td>\n",
       "      <td>75</td>\n",
       "      <td>53</td>\n",
       "      <td>74</td>\n",
       "      <td>2</td>\n",
       "      <td>0</td>\n",
       "      <td>11</td>\n",
       "      <td>5</td>\n",
       "    </tr>\n",
       "    <tr>\n",
       "      <th>764</th>\n",
       "      <td>About Damn Time</td>\n",
       "      <td>Lizzo</td>\n",
       "      <td>1</td>\n",
       "      <td>2022</td>\n",
       "      <td>4</td>\n",
       "      <td>14</td>\n",
       "      <td>9021</td>\n",
       "      <td>0</td>\n",
       "      <td>723894473</td>\n",
       "      <td>242</td>\n",
       "      <td>...</td>\n",
       "      <td>109</td>\n",
       "      <td>A#</td>\n",
       "      <td>Minor</td>\n",
       "      <td>84</td>\n",
       "      <td>72</td>\n",
       "      <td>74</td>\n",
       "      <td>10</td>\n",
       "      <td>0</td>\n",
       "      <td>34</td>\n",
       "      <td>7</td>\n",
       "    </tr>\n",
       "    <tr>\n",
       "      <th>873</th>\n",
       "      <td>SNAP</td>\n",
       "      <td>Rosa Linn</td>\n",
       "      <td>1</td>\n",
       "      <td>2022</td>\n",
       "      <td>3</td>\n",
       "      <td>19</td>\n",
       "      <td>1818</td>\n",
       "      <td>0</td>\n",
       "      <td>711366595</td>\n",
       "      <td>3</td>\n",
       "      <td>...</td>\n",
       "      <td>170</td>\n",
       "      <td>missing_key</td>\n",
       "      <td>Major</td>\n",
       "      <td>56</td>\n",
       "      <td>52</td>\n",
       "      <td>64</td>\n",
       "      <td>11</td>\n",
       "      <td>0</td>\n",
       "      <td>45</td>\n",
       "      <td>7</td>\n",
       "    </tr>\n",
       "  </tbody>\n",
       "</table>\n",
       "<p>8 rows × 24 columns</p>\n",
       "</div>"
      ],
      "text/plain": [
       "           track_name artist(s)_name  artist_count  released_year  \\\n",
       "178              SNAP      Rosa Linn             1           2022   \n",
       "345  SPIT IN MY FACE!       ThxSoMch             1           2022   \n",
       "372   About Damn Time          Lizzo             1           2022   \n",
       "482  SPIT IN MY FACE!       ThxSoMch             1           2022   \n",
       "512    Take My Breath     The Weeknd             1           2021   \n",
       "616    Take My Breath     The Weeknd             1           2021   \n",
       "764   About Damn Time          Lizzo             1           2022   \n",
       "873              SNAP      Rosa Linn             1           2022   \n",
       "\n",
       "     released_month  released_day  in_spotify_playlists  in_spotify_charts  \\\n",
       "178               3            19                  3202                 18   \n",
       "345              10            31                   629                 14   \n",
       "372               7            15                  2332                  2   \n",
       "482              10            31                   573                  0   \n",
       "512               8             6                  2597                  0   \n",
       "616               8             6                  6392                  0   \n",
       "764               4            14                  9021                  0   \n",
       "873               3            19                  1818                  0   \n",
       "\n",
       "       streams  in_apple_playlists  ...  bpm          key   mode  \\\n",
       "178  726307468                 148  ...  170  missing_key  Major   \n",
       "345  303216294                  32  ...   94           G#  Major   \n",
       "372  723894473                   0  ...  109           A#  Minor   \n",
       "482  301869854                   1  ...  166           C#  Major   \n",
       "512  130655803                  17  ...  121           A#  Minor   \n",
       "616  432702334                 174  ...  121           G#  Major   \n",
       "764  723894473                 242  ...  109           A#  Minor   \n",
       "873  711366595                   3  ...  170  missing_key  Major   \n",
       "\n",
       "    danceability_%  valence_% energy_% acousticness_%  instrumentalness_%  \\\n",
       "178             56         53       64             11                   0   \n",
       "345             73         65       79              5                   2   \n",
       "372             84         72       74             10                   0   \n",
       "482             70         57       57              9                  20   \n",
       "512             70         35       77              1                   0   \n",
       "616             75         53       74              2                   0   \n",
       "764             84         72       74             10                   0   \n",
       "873             56         52       64             11                   0   \n",
       "\n",
       "     liveness_%  speechiness_%  \n",
       "178          45              6  \n",
       "345          11              6  \n",
       "372          34              7  \n",
       "482          11              7  \n",
       "512          26              4  \n",
       "616          11              5  \n",
       "764          34              7  \n",
       "873          45              7  \n",
       "\n",
       "[8 rows x 24 columns]"
      ]
     },
     "execution_count": 7,
     "metadata": {},
     "output_type": "execute_result"
    }
   ],
   "source": [
    "df.duplicated(subset=['track_name','artist(s)_name']).sum()\n",
    "\n",
    "df[df.duplicated(subset=['track_name', 'artist(s)_name'], keep=False)]"
   ]
  },
  {
   "cell_type": "code",
   "execution_count": 8,
   "id": "c83d755d",
   "metadata": {
    "execution": {
     "iopub.execute_input": "2024-07-15T21:31:40.860423Z",
     "iopub.status.busy": "2024-07-15T21:31:40.859393Z",
     "iopub.status.idle": "2024-07-15T21:31:40.868430Z",
     "shell.execute_reply": "2024-07-15T21:31:40.867196Z"
    },
    "papermill": {
     "duration": 0.021016,
     "end_time": "2024-07-15T21:31:40.870801",
     "exception": false,
     "start_time": "2024-07-15T21:31:40.849785",
     "status": "completed"
    },
    "tags": []
   },
   "outputs": [
    {
     "name": "stdout",
     "output_type": "stream",
     "text": [
      "Number of rows after removing duplicates: 949\n"
     ]
    }
   ],
   "source": [
    "# Remove duplicates based on 'track_name' and 'artist(s)_name'\n",
    "df_cleaned = df.drop_duplicates(subset=['track_name', 'artist(s)_name'], keep='first')\n",
    "\n",
    "# Print the number of rows after removing duplicates\n",
    "print(f\"Number of rows after removing duplicates: {df_cleaned.shape[0]}\")"
   ]
  },
  {
   "cell_type": "markdown",
   "id": "329d2542",
   "metadata": {
    "papermill": {
     "duration": 0.007487,
     "end_time": "2024-07-15T21:31:40.886220",
     "exception": false,
     "start_time": "2024-07-15T21:31:40.878733",
     "status": "completed"
    },
    "tags": []
   },
   "source": [
    "**Data type conversion**\n",
    "\n",
    "Converting specific columns to numeric data type (float64 or int64), coercing any errors encountered (such as non-numeric strings) to NaN (Not a Number)."
   ]
  },
  {
   "cell_type": "code",
   "execution_count": 9,
   "id": "c56e2c98",
   "metadata": {
    "execution": {
     "iopub.execute_input": "2024-07-15T21:31:40.903894Z",
     "iopub.status.busy": "2024-07-15T21:31:40.903461Z",
     "iopub.status.idle": "2024-07-15T21:31:40.925225Z",
     "shell.execute_reply": "2024-07-15T21:31:40.924099Z"
    },
    "papermill": {
     "duration": 0.033847,
     "end_time": "2024-07-15T21:31:40.928003",
     "exception": false,
     "start_time": "2024-07-15T21:31:40.894156",
     "status": "completed"
    },
    "tags": []
   },
   "outputs": [
    {
     "name": "stdout",
     "output_type": "stream",
     "text": [
      "<class 'pandas.core.frame.DataFrame'>\n",
      "RangeIndex: 953 entries, 0 to 952\n",
      "Data columns (total 24 columns):\n",
      " #   Column                Non-Null Count  Dtype  \n",
      "---  ------                --------------  -----  \n",
      " 0   track_name            953 non-null    object \n",
      " 1   artist(s)_name        953 non-null    object \n",
      " 2   artist_count          953 non-null    int64  \n",
      " 3   released_year         953 non-null    int64  \n",
      " 4   released_month        953 non-null    int64  \n",
      " 5   released_day          953 non-null    int64  \n",
      " 6   in_spotify_playlists  953 non-null    int64  \n",
      " 7   in_spotify_charts     953 non-null    int64  \n",
      " 8   streams               952 non-null    float64\n",
      " 9   in_apple_playlists    953 non-null    int64  \n",
      " 10  in_apple_charts       953 non-null    int64  \n",
      " 11  in_deezer_playlists   874 non-null    float64\n",
      " 12  in_deezer_charts      953 non-null    int64  \n",
      " 13  in_shazam_charts      946 non-null    float64\n",
      " 14  bpm                   953 non-null    int64  \n",
      " 15  key                   953 non-null    object \n",
      " 16  mode                  953 non-null    object \n",
      " 17  danceability_%        953 non-null    int64  \n",
      " 18  valence_%             953 non-null    int64  \n",
      " 19  energy_%              953 non-null    int64  \n",
      " 20  acousticness_%        953 non-null    int64  \n",
      " 21  instrumentalness_%    953 non-null    int64  \n",
      " 22  liveness_%            953 non-null    int64  \n",
      " 23  speechiness_%         953 non-null    int64  \n",
      "dtypes: float64(3), int64(17), object(4)\n",
      "memory usage: 178.8+ KB\n"
     ]
    }
   ],
   "source": [
    "df['streams'] = pd.to_numeric(df['streams'], errors='coerce')\n",
    "df['in_deezer_playlists'] = pd.to_numeric(df['in_deezer_playlists'], errors='coerce')\n",
    "df['in_shazam_charts'] = pd.to_numeric(df['in_shazam_charts'], errors='coerce')\n",
    "df.info()"
   ]
  },
  {
   "cell_type": "code",
   "execution_count": 10,
   "id": "22cf9d6c",
   "metadata": {
    "execution": {
     "iopub.execute_input": "2024-07-15T21:31:40.947236Z",
     "iopub.status.busy": "2024-07-15T21:31:40.946189Z",
     "iopub.status.idle": "2024-07-15T21:31:41.309143Z",
     "shell.execute_reply": "2024-07-15T21:31:41.308019Z"
    },
    "papermill": {
     "duration": 0.375239,
     "end_time": "2024-07-15T21:31:41.311718",
     "exception": false,
     "start_time": "2024-07-15T21:31:40.936479",
     "status": "completed"
    },
    "tags": []
   },
   "outputs": [
    {
     "data": {
      "image/png": "[encoded data removed]",
      "text/plain": [
       "<Figure size 640x480 with 1 Axes>"
      ]
     },
     "metadata": {},
     "output_type": "display_data"
    }
   ],
   "source": [
    "# Artist count\n",
    "sns.countplot(data=df, x='artist_count', palette=\"flare\", width=0.5, saturation = 2).set(title='Number of artists per song')\n",
    "plt.show()"
   ]
  },
  {
   "cell_type": "code",
   "execution_count": 11,
   "id": "e3d4e2ca",
   "metadata": {
    "execution": {
     "iopub.execute_input": "2024-07-15T21:31:41.330634Z",
     "iopub.status.busy": "2024-07-15T21:31:41.330195Z",
     "iopub.status.idle": "2024-07-15T21:31:41.656091Z",
     "shell.execute_reply": "2024-07-15T21:31:41.654951Z"
    },
    "papermill": {
     "duration": 0.338284,
     "end_time": "2024-07-15T21:31:41.658672",
     "exception": false,
     "start_time": "2024-07-15T21:31:41.320388",
     "status": "completed"
    },
    "tags": []
   },
   "outputs": [
    {
     "data": {
      "image/png": "[encoded data removed]",
      "text/plain": [
       "<Figure size 600x500 with 1 Axes>"
      ]
     },
     "metadata": {},
     "output_type": "display_data"
    }
   ],
   "source": [
    "# Grouping by artist(s) again and summing up their streams\n",
    "artist_streams = df.groupby('artist(s)_name')['streams'].sum().sort_values(ascending=False).head(10)\n",
    "\n",
    "# Plotting the artists with the most streams again\n",
    "plt.figure(figsize=(6, 5))\n",
    "sns.barplot(x=artist_streams.values, y=artist_streams.index, palette=\"flare\" ,width=0.5, saturation = 2,orient='h')\n",
    "plt.title('Top 10 Artists Based on Total Streams', fontsize=10)\n",
    "plt.xlabel('Total Streams (in billions)')\n",
    "plt.ylabel('Artist(s) Name')\n",
    "plt.tight_layout()\n",
    "plt.show()"
   ]
  },
  {
   "cell_type": "code",
   "execution_count": 12,
   "id": "9244b318",
   "metadata": {
    "execution": {
     "iopub.execute_input": "2024-07-15T21:31:41.678816Z",
     "iopub.status.busy": "2024-07-15T21:31:41.678387Z",
     "iopub.status.idle": "2024-07-15T21:31:43.575813Z",
     "shell.execute_reply": "2024-07-15T21:31:43.574590Z"
    },
    "papermill": {
     "duration": 1.910502,
     "end_time": "2024-07-15T21:31:43.578426",
     "exception": false,
     "start_time": "2024-07-15T21:31:41.667924",
     "status": "completed"
    },
    "tags": []
   },
   "outputs": [
    {
     "data": {
      "image/png": "[encoded data removed]",
      "text/plain": [
       "<Figure size 400x200 with 1 Axes>"
      ]
     },
     "metadata": {},
     "output_type": "display_data"
    },
    {
     "data": {
      "image/png": "[encoded data removed]",
      "text/plain": [
       "<Figure size 400x200 with 1 Axes>"
      ]
     },
     "metadata": {},
     "output_type": "display_data"
    },
    {
     "data": {
      "image/png": "[encoded data removed]",
      "text/plain": [
       "<Figure size 400x200 with 1 Axes>"
      ]
     },
     "metadata": {},
     "output_type": "display_data"
    },
    {
     "data": {
      "image/png": "[encoded data removed]",
      "text/plain": [
       "<Figure size 400x200 with 1 Axes>"
      ]
     },
     "metadata": {},
     "output_type": "display_data"
    },
    {
     "data": {
      "image/png": "[encoded data removed]",
      "text/plain": [
       "<Figure size 400x200 with 1 Axes>"
      ]
     },
     "metadata": {},
     "output_type": "display_data"
    },
    {
     "data": {
      "image/png": "[encoded data removed]",
      "text/plain": [
       "<Figure size 400x200 with 1 Axes>"
      ]
     },
     "metadata": {},
     "output_type": "display_data"
    },
    {
     "data": {
      "image/png": "[encoded data removed]",
      "text/plain": [
       "<Figure size 400x200 with 1 Axes>"
      ]
     },
     "metadata": {},
     "output_type": "display_data"
    },
    {
     "data": {
      "image/png": "[encoded data removed]",
      "text/plain": [
       "<Figure size 400x200 with 1 Axes>"
      ]
     },
     "metadata": {},
     "output_type": "display_data"
    },
    {
     "data": {
      "image/png": "[encoded data removed]",
      "text/plain": [
       "<Figure size 400x200 with 1 Axes>"
      ]
     },
     "metadata": {},
     "output_type": "display_data"
    },
    {
     "data": {
      "image/png": "[encoded data removed]",
      "text/plain": [
       "<Figure size 400x200 with 1 Axes>"
      ]
     },
     "metadata": {},
     "output_type": "display_data"
    },
    {
     "data": {
      "image/png": "[encoded data removed]",
      "text/plain": [
       "<Figure size 400x200 with 1 Axes>"
      ]
     },
     "metadata": {},
     "output_type": "display_data"
    }
   ],
   "source": [
    "numerical_cols = [\n",
    "    'streams', 'in_deezer_playlists', 'in_shazam_charts', 'bpm', \n",
    "    'danceability_%', 'valence_%', 'energy_%', 'acousticness_%', \n",
    "    'instrumentalness_%', 'liveness_%', 'speechiness_%'\n",
    "]\n",
    "\n",
    "# Loop through numerical columns and create box plots\n",
    "for col in numerical_cols:\n",
    "    plt.figure(figsize=(4, 2))\n",
    "    sns.boxplot(x=df[col])\n",
    "    plt.title(f'Box plot of {col}')\n",
    "    plt.show()"
   ]
  }
 ],
 "metadata": {
  "kaggle": {
   "accelerator": "none",
   "dataSources": [
    {
     "datasetId": 3668746,
     "sourceId": 6367938,
     "sourceType": "datasetVersion"
    }
   ],
   "dockerImageVersionId": 30746,
   "isGpuEnabled": false,
   "isInternetEnabled": false,
   "language": "python",
   "sourceType": "notebook"
  },
  "kernelspec": {
   "display_name": "Python 3",
   "language": "python",
   "name": "python3"
  },
  "language_info": {
   "codemirror_mode": {
    "name": "ipython",
    "version": 3
   },
   "file_extension": ".py",
   "mimetype": "text/x-python",
   "name": "python",
   "nbconvert_exporter": "python",
   "pygments_lexer": "ipython3",
   "version": "3.10.13"
  },
  "papermill": {
   "default_parameters": {},
   "duration": 9.60564,
   "end_time": "2024-07-15T21:31:44.215519",
   "environment_variables": {},
   "exception": null,
   "input_path": "__notebook__.ipynb",
   "output_path": "__notebook__.ipynb",
   "parameters": {},
   "start_time": "2024-07-15T21:31:34.609879",
   "version": "2.5.0"
  }
 },
 "nbformat": 4,
 "nbformat_minor": 5
}
